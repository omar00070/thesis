{
 "cells": [
  {
   "cell_type": "code",
   "execution_count": 1,
   "metadata": {},
   "outputs": [],
   "source": [
    "import numpy as np\n",
    "import pandas as pd\n",
    "from sklearn.model_selection import train_test_split"
   ]
  },
  {
   "cell_type": "code",
   "execution_count": 2,
   "metadata": {},
   "outputs": [],
   "source": [
    "def sigmoid(z):\n",
    "    return 1/(1 + np.exp(-z))"
   ]
  },
  {
   "cell_type": "code",
   "execution_count": 3,
   "metadata": {},
   "outputs": [],
   "source": [
    "def forward_propagate(X, w, b):\n",
    "    Z = np.dot(w.T, X) + b\n",
    "    A = sigmoid(Z)\n",
    "    return A"
   ]
  },
  {
   "cell_type": "code",
   "execution_count": 4,
   "metadata": {},
   "outputs": [],
   "source": [
    "def backward_propagate(w, b, X, Y, A, m, n0, n1, learning_rate):\n",
    "    dz = n0/n1 * (Y - Y * A) + A - Y * A\n",
    "    dw = 1/m * np.dot(X, dz.T)\n",
    "    db = 1/m * np.sum(dz)\n",
    "    return dw, db"
   ]
  },
  {
   "cell_type": "code",
   "execution_count": 5,
   "metadata": {},
   "outputs": [],
   "source": [
    "def initiate_params(n, m):\n",
    "    w = np.zeros((n, 1))\n",
    "    b = np.zeros((1, 1))\n",
    "    return w, b"
   ]
  },
  {
   "cell_type": "code",
   "execution_count": 6,
   "metadata": {},
   "outputs": [],
   "source": [
    "def logistic_regression(X, Y, learning_rate=0.1, num_iterations=10000):\n",
    "    n, m = X.shape\n",
    "    n0 = np.count_nonzero(Y == 0)\n",
    "    n1 = np.count_nonzero(Y != 10)\n",
    "    w, b = initiate_params(n, m)\n",
    "    \n",
    "    costs = []\n",
    "    for i in range(num_iterations):\n",
    "        A = forward_propagate(X, w, b)\n",
    "        dw, db = backward_propagate(w, b, X, Y, A, m, n0, n1, learning_rate)\n",
    "        w = w - learning_rate * dw\n",
    "        b = b - learning_rate * db\n",
    "        L = - n0/n1 * (Y * A + (1-Y) * np.log(1-A)) # loss\n",
    "        cost = 1/m * np.sum(L)\n",
    "        if i % 50 == 0:\n",
    "            costs.append(cost)\n",
    "    return w, b, costs"
   ]
  },
  {
   "cell_type": "code",
   "execution_count": 7,
   "metadata": {},
   "outputs": [],
   "source": [
    "def load_data():\n",
    "    df = pd.read_excel('output.xlsx')\n",
    "    df = df.dropna()\n",
    "    soil_df = df[['plowing', 'other_basic_cultivation']]\n",
    "    erosion_df = df[['raindrop_erosion']]\n",
    "    X_train, X_test, y_train, y_test = train_test_split(soil_df, erosion_df, test_size=0.33)\n",
    "    \n",
    "    return X_train.transpose().to_numpy(), X_test.transpose().to_numpy(), y_train.transpose().to_numpy(), y_test.transpose().to_numpy()\n",
    "X_train, X_test, y_train, y_test = load_data()"
   ]
  },
  {
   "cell_type": "code",
   "execution_count": 8,
   "metadata": {},
   "outputs": [],
   "source": [
    "w, b, costs = logistic_regression(X_train, y_train, 0.01, 500)"
   ]
  },
  {
   "cell_type": "code",
   "execution_count": 9,
   "metadata": {},
   "outputs": [],
   "source": [
    "def predict(X, w, b):\n",
    "    A_predicted = forward_propagate(X, w, b)\n",
    "    return A_predicted"
   ]
  },
  {
   "cell_type": "code",
   "execution_count": 10,
   "metadata": {},
   "outputs": [
    {
     "data": {
      "text/plain": [
       "array([[0.05643988, 0.05643988, 0.02841334, 0.05643988, 0.08471967,\n",
       "        0.05643988, 0.05643988, 0.08471967, 0.15918627, 0.08471967,\n",
       "        0.08471967, 0.05643988, 0.05643988, 0.02841334, 0.15918627,\n",
       "        0.08471967, 0.08471967, 0.05643988, 0.02841334, 0.08471967,\n",
       "        0.02841334, 0.05643988, 0.02841334, 0.02841334, 0.05643988,\n",
       "        0.05643988, 0.08471967, 0.08471967, 0.15918627, 0.15918627,\n",
       "        0.08471967, 0.05643988, 0.15918627, 0.15918627, 0.02841334,\n",
       "        0.08471967, 0.15918627, 0.05643988, 0.05643988, 0.05643988,\n",
       "        0.15918627, 0.05643988, 0.08471967, 0.02841334, 0.02841334,\n",
       "        0.02841334, 0.05643988, 0.05643988, 0.05643988, 0.08471967,\n",
       "        0.05643988, 0.02841334, 0.15918627, 0.05643988, 0.05643988,\n",
       "        0.05643988, 0.05643988, 0.02841334, 0.15918627, 0.08471967,\n",
       "        0.05643988, 0.15918627, 0.05643988, 0.05643988, 0.05643988,\n",
       "        0.02841334, 0.02841334, 0.15918627, 0.08471967, 0.02841334,\n",
       "        0.15918627, 0.02841334, 0.05643988, 0.05643988, 0.05643988,\n",
       "        0.02841334, 0.15918627, 0.15918627, 0.08471967, 0.02841334]])"
      ]
     },
     "execution_count": 10,
     "metadata": {},
     "output_type": "execute_result"
    }
   ],
   "source": [
    "predict(X_train, w, b)"
   ]
  },
  {
   "cell_type": "code",
   "execution_count": 11,
   "metadata": {},
   "outputs": [],
   "source": [
    "from sklearn.linear_model import LogisticRegression as LR"
   ]
  },
  {
   "cell_type": "code",
   "execution_count": 12,
   "metadata": {},
   "outputs": [
    {
     "name": "stderr",
     "output_type": "stream",
     "text": [
      "/home/omars/.local/lib/python3.8/site-packages/sklearn/utils/validation.py:63: DataConversionWarning: A column-vector y was passed when a 1d array was expected. Please change the shape of y to (n_samples, ), for example using ravel().\n",
      "  return f(*args, **kwargs)\n"
     ]
    },
    {
     "data": {
      "text/plain": [
       "0.7"
      ]
     },
     "execution_count": 12,
     "metadata": {},
     "output_type": "execute_result"
    }
   ],
   "source": [
    "df = pd.read_excel('output.xlsx')\n",
    "df = df.dropna()\n",
    "soil_df = df[['plowing']]\n",
    "erosion_df = df[['raindrop_erosion']]\n",
    "X_train, X_test, y_train, y_test = train_test_split(soil_df, erosion_df, test_size=0.33)\n",
    "\n",
    "lr = LR(class_weight=\"balanced\")\n",
    "lr.fit(X_train, y_train)\n",
    "lr.score(X_test, y_test)\n",
    "lr.score(X_train, y_train)"
   ]
  },
  {
   "cell_type": "code",
   "execution_count": 13,
   "metadata": {},
   "outputs": [],
   "source": [
    "import matplotlib.pyplot as plt"
   ]
  },
  {
   "cell_type": "code",
   "execution_count": 14,
   "metadata": {},
   "outputs": [
    {
     "data": {
      "text/plain": [
       "[0.24945862338113478,\n",
       " 0.19556889281439435,\n",
       " 0.15582190549323846,\n",
       " 0.12615064749976243,\n",
       " 0.10359290389198034,\n",
       " 0.08610388362495225,\n",
       " 0.07229345115200549,\n",
       " 0.061210159613583205,\n",
       " 0.05219137528971762,\n",
       " 0.044765648764615175]"
      ]
     },
     "execution_count": 14,
     "metadata": {},
     "output_type": "execute_result"
    }
   ],
   "source": [
    "costs"
   ]
  },
  {
   "cell_type": "code",
   "execution_count": 15,
   "metadata": {},
   "outputs": [
    {
     "data": {
      "image/png": "[encoded data removed]",
      "text/plain": [
       "<Figure size 1332x756 with 1 Axes>"
      ]
     },
     "metadata": {
      "needs_background": "light"
     },
     "output_type": "display_data"
    }
   ],
   "source": [
    "iters = [50 * i + 1 for i in range(len(costs))]\n",
    "plt.plot(iters, costs)\n",
    "plt.xlabel('number of iterations', fontsize=20)\n",
    "plt.ylabel('costs', fontsize=20)\n",
    "fig = plt.gcf()\n",
    "fig.set_size_inches(18.5, 10.5)"
   ]
  },
  {
   "cell_type": "code",
   "execution_count": 16,
   "metadata": {},
   "outputs": [
    {
     "data": {
      "text/plain": [
       "52"
      ]
     },
     "execution_count": 16,
     "metadata": {},
     "output_type": "execute_result"
    }
   ],
   "source": [
    "count = 0\n",
    "for i in y_train.reset_index()['raindrop_erosion']:\n",
    "    if i == 1:\n",
    "        count += 1\n",
    "count\n",
    "len(y_train.reset_index()['raindrop_erosion']) - count"
   ]
  },
  {
   "cell_type": "code",
   "execution_count": 17,
   "metadata": {},
   "outputs": [
    {
     "name": "stderr",
     "output_type": "stream",
     "text": [
      "<ipython-input-17-3cd4f88c74d3>:1: SettingWithCopyWarning: \n",
      "A value is trying to be set on a copy of a slice from a DataFrame.\n",
      "Try using .loc[row_indexer,col_indexer] = value instead\n",
      "\n",
      "See the caveats in the documentation: https://pandas.pydata.org/pandas-docs/stable/user_guide/indexing.html#returning-a-view-versus-a-copy\n",
      "  y_train['x'] = [1 for i in range(len(y_train.index.values))]\n"
     ]
    }
   ],
   "source": [
    "y_train['x'] = [1 for i in range(len(y_train.index.values))]"
   ]
  },
  {
   "cell_type": "code",
   "execution_count": 18,
   "metadata": {},
   "outputs": [
    {
     "ename": "ValueError",
     "evalue": "The truth value of a Series is ambiguous. Use a.empty, a.bool(), a.item(), a.any() or a.all().",
     "output_type": "error",
     "traceback": [
      "\u001b[0;31m---------------------------------------------------------------------------\u001b[0m",
      "\u001b[0;31mValueError\u001b[0m                                Traceback (most recent call last)",
      "\u001b[0;32m<ipython-input-18-07b32a286a7f>\u001b[0m in \u001b[0;36m<module>\u001b[0;34m\u001b[0m\n\u001b[0;32m----> 1\u001b[0;31m \u001b[0my_train\u001b[0m\u001b[0;34m[\u001b[0m\u001b[0;34m'xpr'\u001b[0m\u001b[0;34m]\u001b[0m \u001b[0;34m=\u001b[0m \u001b[0my_train\u001b[0m\u001b[0;34m[\u001b[0m\u001b[0;34m'raindrop_erosion'\u001b[0m\u001b[0;34m]\u001b[0m \u001b[0;32mor\u001b[0m \u001b[0my_train\u001b[0m\u001b[0;34m[\u001b[0m\u001b[0;34m'x'\u001b[0m\u001b[0;34m]\u001b[0m\u001b[0;34m\u001b[0m\u001b[0;34m\u001b[0m\u001b[0m\n\u001b[0m",
      "\u001b[0;32m~/.local/lib/python3.8/site-packages/pandas/core/generic.py\u001b[0m in \u001b[0;36m__nonzero__\u001b[0;34m(self)\u001b[0m\n\u001b[1;32m   1440\u001b[0m     \u001b[0;34m@\u001b[0m\u001b[0mfinal\u001b[0m\u001b[0;34m\u001b[0m\u001b[0;34m\u001b[0m\u001b[0m\n\u001b[1;32m   1441\u001b[0m     \u001b[0;32mdef\u001b[0m \u001b[0m__nonzero__\u001b[0m\u001b[0;34m(\u001b[0m\u001b[0mself\u001b[0m\u001b[0;34m)\u001b[0m\u001b[0;34m:\u001b[0m\u001b[0;34m\u001b[0m\u001b[0;34m\u001b[0m\u001b[0m\n\u001b[0;32m-> 1442\u001b[0;31m         raise ValueError(\n\u001b[0m\u001b[1;32m   1443\u001b[0m             \u001b[0;34mf\"The truth value of a {type(self).__name__} is ambiguous. \"\u001b[0m\u001b[0;34m\u001b[0m\u001b[0;34m\u001b[0m\u001b[0m\n\u001b[1;32m   1444\u001b[0m             \u001b[0;34m\"Use a.empty, a.bool(), a.item(), a.any() or a.all().\"\u001b[0m\u001b[0;34m\u001b[0m\u001b[0;34m\u001b[0m\u001b[0m\n",
      "\u001b[0;31mValueError\u001b[0m: The truth value of a Series is ambiguous. Use a.empty, a.bool(), a.item(), a.any() or a.all()."
     ]
    }
   ],
   "source": [
    "y_train['xpr'] = y_train['raindrop_erosion'] or y_train['x']"
   ]
  },
  {
   "cell_type": "code",
   "execution_count": 19,
   "metadata": {},
   "outputs": [],
   "source": [
    "from sklearn.model_selection import KFold\n",
    "from sklearn.model_selection import cross_val_score\n",
    "from sklearn.linear_model import LogisticRegression\n",
    "from numpy import mean\n",
    "from numpy import std\n",
    "\n",
    "\n",
    "df = pd.read_excel('output.xlsx')\n",
    "df = df.dropna()\n",
    "soil_df = df[['plowing', 'grassing', 'crop_rotation']\\\n",
    "+ [e for e in df.columns if e.isnumeric() and int(str(e)[4:6]) in [12, 11, 10, 9]]]\n",
    "\n",
    "def erosion_analyzer(erosion_field, k=15):\n",
    "    erosion_df = df[[erosion_field]]\n",
    "    \n",
    "    cv = KFold(n_splits=k, shuffle=True, random_state=1)\n",
    "    model = LogisticRegression(class_weight=\"balanced\")\n",
    "    scores = cross_val_score(model, soil_df, erosion_df, scoring='accuracy', cv=cv, n_jobs=-1)\n",
    "\n",
    "    return mean(scores)\n",
    "\n",
    "erosion_columns = [e for e in df.columns if 'erosion' in e]\n",
    "erosion_scores = pd.DataFrame()\n",
    "for erosion_field in erosion_columns:\n",
    "    accuracy = erosion_analyzer(erosion_field, 100)\n",
    "    data = {'Erosion Type': erosion_field, 'Accuracy': accuracy}\n",
    "    erosion_scores = erosion_scores.append(data, ignore_index=True)\n"
   ]
  },
  {
   "cell_type": "code",
   "execution_count": 34,
   "metadata": {},
   "outputs": [
    {
     "data": {
      "text/html": [
       "<div>\n",
       "<style scoped>\n",
       "    .dataframe tbody tr th:only-of-type {\n",
       "        vertical-align: middle;\n",
       "    }\n",
       "\n",
       "    .dataframe tbody tr th {\n",
       "        vertical-align: top;\n",
       "    }\n",
       "\n",
       "    .dataframe thead th {\n",
       "        text-align: right;\n",
       "    }\n",
       "</style>\n",
       "<table border=\"1\" class=\"dataframe\">\n",
       "  <thead>\n",
       "    <tr style=\"text-align: right;\">\n",
       "      <th></th>\n",
       "      <th>raindrop_erosion</th>\n",
       "      <th>rill_erosion</th>\n",
       "      <th>gully_erosion</th>\n",
       "      <th>sedimentation_erosion</th>\n",
       "      <th>other_erosion</th>\n",
       "    </tr>\n",
       "  </thead>\n",
       "  <tbody>\n",
       "    <tr>\n",
       "      <th>1</th>\n",
       "      <td>0.0</td>\n",
       "      <td>0.0</td>\n",
       "      <td>0.0</td>\n",
       "      <td>0.0</td>\n",
       "      <td>0.0</td>\n",
       "    </tr>\n",
       "    <tr>\n",
       "      <th>2</th>\n",
       "      <td>0.0</td>\n",
       "      <td>1.0</td>\n",
       "      <td>0.0</td>\n",
       "      <td>0.0</td>\n",
       "      <td>1.0</td>\n",
       "    </tr>\n",
       "    <tr>\n",
       "      <th>3</th>\n",
       "      <td>0.0</td>\n",
       "      <td>0.0</td>\n",
       "      <td>0.0</td>\n",
       "      <td>0.0</td>\n",
       "      <td>0.0</td>\n",
       "    </tr>\n",
       "    <tr>\n",
       "      <th>4</th>\n",
       "      <td>0.0</td>\n",
       "      <td>0.0</td>\n",
       "      <td>0.0</td>\n",
       "      <td>1.0</td>\n",
       "      <td>0.0</td>\n",
       "    </tr>\n",
       "    <tr>\n",
       "      <th>5</th>\n",
       "      <td>0.0</td>\n",
       "      <td>0.0</td>\n",
       "      <td>0.0</td>\n",
       "      <td>0.0</td>\n",
       "      <td>0.0</td>\n",
       "    </tr>\n",
       "    <tr>\n",
       "      <th>...</th>\n",
       "      <td>...</td>\n",
       "      <td>...</td>\n",
       "      <td>...</td>\n",
       "      <td>...</td>\n",
       "      <td>...</td>\n",
       "    </tr>\n",
       "    <tr>\n",
       "      <th>125</th>\n",
       "      <td>0.0</td>\n",
       "      <td>0.0</td>\n",
       "      <td>0.0</td>\n",
       "      <td>0.0</td>\n",
       "      <td>0.0</td>\n",
       "    </tr>\n",
       "    <tr>\n",
       "      <th>126</th>\n",
       "      <td>1.0</td>\n",
       "      <td>1.0</td>\n",
       "      <td>0.0</td>\n",
       "      <td>0.0</td>\n",
       "      <td>0.0</td>\n",
       "    </tr>\n",
       "    <tr>\n",
       "      <th>127</th>\n",
       "      <td>0.0</td>\n",
       "      <td>0.0</td>\n",
       "      <td>0.0</td>\n",
       "      <td>0.0</td>\n",
       "      <td>0.0</td>\n",
       "    </tr>\n",
       "    <tr>\n",
       "      <th>128</th>\n",
       "      <td>1.0</td>\n",
       "      <td>1.0</td>\n",
       "      <td>0.0</td>\n",
       "      <td>0.0</td>\n",
       "      <td>0.0</td>\n",
       "    </tr>\n",
       "    <tr>\n",
       "      <th>129</th>\n",
       "      <td>1.0</td>\n",
       "      <td>1.0</td>\n",
       "      <td>0.0</td>\n",
       "      <td>0.0</td>\n",
       "      <td>0.0</td>\n",
       "    </tr>\n",
       "  </tbody>\n",
       "</table>\n",
       "<p>120 rows × 5 columns</p>\n",
       "</div>"
      ],
      "text/plain": [
       "     raindrop_erosion  rill_erosion  gully_erosion  sedimentation_erosion  \\\n",
       "1                 0.0           0.0            0.0                    0.0   \n",
       "2                 0.0           1.0            0.0                    0.0   \n",
       "3                 0.0           0.0            0.0                    0.0   \n",
       "4                 0.0           0.0            0.0                    1.0   \n",
       "5                 0.0           0.0            0.0                    0.0   \n",
       "..                ...           ...            ...                    ...   \n",
       "125               0.0           0.0            0.0                    0.0   \n",
       "126               1.0           1.0            0.0                    0.0   \n",
       "127               0.0           0.0            0.0                    0.0   \n",
       "128               1.0           1.0            0.0                    0.0   \n",
       "129               1.0           1.0            0.0                    0.0   \n",
       "\n",
       "     other_erosion  \n",
       "1              0.0  \n",
       "2              1.0  \n",
       "3              0.0  \n",
       "4              0.0  \n",
       "5              0.0  \n",
       "..             ...  \n",
       "125            0.0  \n",
       "126            0.0  \n",
       "127            0.0  \n",
       "128            0.0  \n",
       "129            0.0  \n",
       "\n",
       "[120 rows x 5 columns]"
      ]
     },
     "execution_count": 34,
     "metadata": {},
     "output_type": "execute_result"
    }
   ],
   "source": [
    "df = pd.read_excel('output.xlsx')\n",
    "df = df.dropna()\n",
    "erosion_fields = [e for e in df.columns if 'erosion' in e]\n",
    "erosion_df = df[erosion_fields]\n",
    "erosion_df\n"
   ]
  },
  {
   "cell_type": "code",
   "execution_count": 64,
   "metadata": {},
   "outputs": [
    {
     "data": {
      "image/png": "[encoded data removed]",
      "text/plain": [
       "<Figure size 936x936 with 4 Axes>"
      ]
     },
     "metadata": {
      "needs_background": "light"
     },
     "output_type": "display_data"
    }
   ],
   "source": [
    "def get_erosion_count(erosion_df, field):\n",
    "    def count_1(series):\n",
    "        return sum([i for i in series if i == 1])\n",
    "    series = erosion_df[field]\n",
    "    count_of_1 = count_1(series)\n",
    "    return {\"Erosion\": count_of_1, \"No Erosion\": len(series) - count_of_1}\n",
    "\n",
    "fig, axs = plt.subplots(figsize=(13,13),nrows=2, ncols=2)\n",
    "\n",
    "for i, er in enumerate([e for e in erosion_fields if e != 'sedimentation_erosion']):\n",
    "    erosion_count = get_erosion_count(erosion_df, er)\n",
    "    erosion = pd.DataFrame(erosion_count, index=[0])\n",
    "    if i == 0:\n",
    "        ax = erosion.plot(kind=\"bar\", ax=axs[0, 0])\n",
    "  \n",
    "    elif i == 1:\n",
    "        ax = erosion.plot(kind=\"bar\", ax=axs[1, 0], title=\"count of erosion data for {}\".format(er), ylabel=\"count of erosion\")\n",
    "    elif i == 2:\n",
    "        ax = erosion.plot(kind=\"bar\", ax=axs[0, 1], title=\"count of erosion data for {}\".format(er), ylabel=\"count of erosion\")\n",
    "    else:\n",
    "        ax = erosion.plot(kind=\"bar\", ax=axs[1, 1], title=\"count of erosion data for {}\".format(er), ylabel=\"count of erosion\")\n",
    "    \n",
    "    ax.set_title(\"count of erosion data for {}\".format(er), fontsize=15)\n",
    "    ax.set_ylabel(\"count of erosion\", fontsize=14)\n",
    "\n",
    "\n"
   ]
  },
  {
   "cell_type": "markdown",
   "metadata": {},
   "source": [
    "erosion_scores = pd.DataFrame()\n",
    "for erosion_field in erosion_columns:\n",
    "    accuracy, std = erosion_analyzer(erosion_field, 100)\n",
    "    data = {'Erosion Type': erosion_field, 'Accuracy': accuracy, 'Standard Deviation': std}\n",
    "    erosion_scores = erosion_scores.append(data, ignore_index=True)"
   ]
  },
  {
   "cell_type": "code",
   "execution_count": null,
   "metadata": {},
   "outputs": [],
   "source": [
    "erosion_scores.set_index('Erosion Type').to_excel('erosion_accuracy.xlsx')"
   ]
  },
  {
   "cell_type": "code",
   "execution_count": null,
   "metadata": {},
   "outputs": [],
   "source": [
    "erosion_scores"
   ]
  },
  {
   "cell_type": "code",
   "execution_count": null,
   "metadata": {},
   "outputs": [],
   "source": [
    "from sklearn.model_selection import KFold\n",
    "from sklearn.model_selection import cross_val_score\n",
    "from sklearn.linear_model import LogisticRegression\n",
    "# create dataset\n",
    "X, y = make_classification(n_samples=1000, n_features=20, n_informative=15, n_redundant=5, random_state=1)\n",
    "# prepare the cross-validation procedure\n",
    "cv = KFold(n_splits=10, random_state=1, shuffle=True)\n",
    "# create model\n",
    "model = LogisticRegression()\n",
    "# evaluate model\n",
    "scores = cross_val_score(model, X, y, scoring='accuracy', cv=cv, n_jobs=-1)\n",
    "# report performance\n",
    "print('Accuracy: %.3f (%.3f)' % (mean(scores), std(scores)))"
   ]
  },
  {
   "cell_type": "code",
   "execution_count": null,
   "metadata": {},
   "outputs": [],
   "source": []
  },
  {
   "cell_type": "code",
   "execution_count": null,
   "metadata": {},
   "outputs": [],
   "source": [
    "int('09') in [9]"
   ]
  },
  {
   "cell_type": "code",
   "execution_count": null,
   "metadata": {},
   "outputs": [],
   "source": []
  }
 ],
 "metadata": {
  "kernelspec": {
   "display_name": "Python 3",
   "language": "python",
   "name": "python3"
  },
  "language_info": {
   "codemirror_mode": {
    "name": "ipython",
    "version": 3
   },
   "file_extension": ".py",
   "mimetype": "text/x-python",
   "name": "python",
   "nbconvert_exporter": "python",
   "pygments_lexer": "ipython3",
   "version": "3.8.6"
  }
 },
 "nbformat": 4,
 "nbformat_minor": 4
}
