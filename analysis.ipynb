{
 "cells": [
  {
   "cell_type": "code",
   "execution_count": 59,
   "metadata": {},
   "outputs": [],
   "source": [
    "import numpy as np\n",
    "import pandas as pd\n",
    "import matplotlib.pyplot as plt"
   ]
  },
  {
   "cell_type": "code",
   "execution_count": 60,
   "metadata": {},
   "outputs": [
    {
     "ename": "FileNotFoundError",
     "evalue": "[Errno 2] No such file or directory: 'rain_data.xlsx'",
     "output_type": "error",
     "traceback": [
      "\u001b[0;31m---------------------------------------------------------------------------\u001b[0m",
      "\u001b[0;31mFileNotFoundError\u001b[0m                         Traceback (most recent call last)",
      "\u001b[0;32m<ipython-input-60-da33fa627945>\u001b[0m in \u001b[0;36m<module>\u001b[0;34m\u001b[0m\n\u001b[0;32m----> 1\u001b[0;31m \u001b[0mdf\u001b[0m \u001b[0;34m=\u001b[0m \u001b[0mpd\u001b[0m\u001b[0;34m.\u001b[0m\u001b[0mread_excel\u001b[0m\u001b[0;34m(\u001b[0m\u001b[0;34m'rain_data.xlsx'\u001b[0m\u001b[0;34m,\u001b[0m \u001b[0mindex_col\u001b[0m\u001b[0;34m=\u001b[0m\u001b[0;36m0\u001b[0m\u001b[0;34m)\u001b[0m\u001b[0;34m\u001b[0m\u001b[0;34m\u001b[0m\u001b[0m\n\u001b[0m",
      "\u001b[0;32m~/.local/lib/python3.8/site-packages/pandas/util/_decorators.py\u001b[0m in \u001b[0;36mwrapper\u001b[0;34m(*args, **kwargs)\u001b[0m\n\u001b[1;32m    297\u001b[0m                 )\n\u001b[1;32m    298\u001b[0m                 \u001b[0mwarnings\u001b[0m\u001b[0;34m.\u001b[0m\u001b[0mwarn\u001b[0m\u001b[0;34m(\u001b[0m\u001b[0mmsg\u001b[0m\u001b[0;34m,\u001b[0m \u001b[0mFutureWarning\u001b[0m\u001b[0;34m,\u001b[0m \u001b[0mstacklevel\u001b[0m\u001b[0;34m=\u001b[0m\u001b[0mstacklevel\u001b[0m\u001b[0;34m)\u001b[0m\u001b[0;34m\u001b[0m\u001b[0;34m\u001b[0m\u001b[0m\n\u001b[0;32m--> 299\u001b[0;31m             \u001b[0;32mreturn\u001b[0m \u001b[0mfunc\u001b[0m\u001b[0;34m(\u001b[0m\u001b[0;34m*\u001b[0m\u001b[0margs\u001b[0m\u001b[0;34m,\u001b[0m \u001b[0;34m**\u001b[0m\u001b[0mkwargs\u001b[0m\u001b[0;34m)\u001b[0m\u001b[0;34m\u001b[0m\u001b[0;34m\u001b[0m\u001b[0m\n\u001b[0m\u001b[1;32m    300\u001b[0m \u001b[0;34m\u001b[0m\u001b[0m\n\u001b[1;32m    301\u001b[0m         \u001b[0;32mreturn\u001b[0m \u001b[0mwrapper\u001b[0m\u001b[0;34m\u001b[0m\u001b[0;34m\u001b[0m\u001b[0m\n",
      "\u001b[0;32m~/.local/lib/python3.8/site-packages/pandas/io/excel/_base.py\u001b[0m in \u001b[0;36mread_excel\u001b[0;34m(io, sheet_name, header, names, index_col, usecols, squeeze, dtype, engine, converters, true_values, false_values, skiprows, nrows, na_values, keep_default_na, na_filter, verbose, parse_dates, date_parser, thousands, comment, skipfooter, convert_float, mangle_dupe_cols, storage_options)\u001b[0m\n\u001b[1;32m    334\u001b[0m     \u001b[0;32mif\u001b[0m \u001b[0;32mnot\u001b[0m \u001b[0misinstance\u001b[0m\u001b[0;34m(\u001b[0m\u001b[0mio\u001b[0m\u001b[0;34m,\u001b[0m \u001b[0mExcelFile\u001b[0m\u001b[0;34m)\u001b[0m\u001b[0;34m:\u001b[0m\u001b[0;34m\u001b[0m\u001b[0;34m\u001b[0m\u001b[0m\n\u001b[1;32m    335\u001b[0m         \u001b[0mshould_close\u001b[0m \u001b[0;34m=\u001b[0m \u001b[0;32mTrue\u001b[0m\u001b[0;34m\u001b[0m\u001b[0;34m\u001b[0m\u001b[0m\n\u001b[0;32m--> 336\u001b[0;31m         \u001b[0mio\u001b[0m \u001b[0;34m=\u001b[0m \u001b[0mExcelFile\u001b[0m\u001b[0;34m(\u001b[0m\u001b[0mio\u001b[0m\u001b[0;34m,\u001b[0m \u001b[0mstorage_options\u001b[0m\u001b[0;34m=\u001b[0m\u001b[0mstorage_options\u001b[0m\u001b[0;34m,\u001b[0m \u001b[0mengine\u001b[0m\u001b[0;34m=\u001b[0m\u001b[0mengine\u001b[0m\u001b[0;34m)\u001b[0m\u001b[0;34m\u001b[0m\u001b[0;34m\u001b[0m\u001b[0m\n\u001b[0m\u001b[1;32m    337\u001b[0m     \u001b[0;32melif\u001b[0m \u001b[0mengine\u001b[0m \u001b[0;32mand\u001b[0m \u001b[0mengine\u001b[0m \u001b[0;34m!=\u001b[0m \u001b[0mio\u001b[0m\u001b[0;34m.\u001b[0m\u001b[0mengine\u001b[0m\u001b[0;34m:\u001b[0m\u001b[0;34m\u001b[0m\u001b[0;34m\u001b[0m\u001b[0m\n\u001b[1;32m    338\u001b[0m         raise ValueError(\n",
      "\u001b[0;32m~/.local/lib/python3.8/site-packages/pandas/io/excel/_base.py\u001b[0m in \u001b[0;36m__init__\u001b[0;34m(self, path_or_buffer, engine, storage_options)\u001b[0m\n\u001b[1;32m   1069\u001b[0m                 \u001b[0mext\u001b[0m \u001b[0;34m=\u001b[0m \u001b[0;34m\"xls\"\u001b[0m\u001b[0;34m\u001b[0m\u001b[0;34m\u001b[0m\u001b[0m\n\u001b[1;32m   1070\u001b[0m             \u001b[0;32melse\u001b[0m\u001b[0;34m:\u001b[0m\u001b[0;34m\u001b[0m\u001b[0;34m\u001b[0m\u001b[0m\n\u001b[0;32m-> 1071\u001b[0;31m                 ext = inspect_excel_format(\n\u001b[0m\u001b[1;32m   1072\u001b[0m                     \u001b[0mcontent\u001b[0m\u001b[0;34m=\u001b[0m\u001b[0mpath_or_buffer\u001b[0m\u001b[0;34m,\u001b[0m \u001b[0mstorage_options\u001b[0m\u001b[0;34m=\u001b[0m\u001b[0mstorage_options\u001b[0m\u001b[0;34m\u001b[0m\u001b[0;34m\u001b[0m\u001b[0m\n\u001b[1;32m   1073\u001b[0m                 )\n",
      "\u001b[0;32m~/.local/lib/python3.8/site-packages/pandas/io/excel/_base.py\u001b[0m in \u001b[0;36minspect_excel_format\u001b[0;34m(path, content, storage_options)\u001b[0m\n\u001b[1;32m    947\u001b[0m     \u001b[0;32massert\u001b[0m \u001b[0mcontent_or_path\u001b[0m \u001b[0;32mis\u001b[0m \u001b[0;32mnot\u001b[0m \u001b[0;32mNone\u001b[0m\u001b[0;34m\u001b[0m\u001b[0;34m\u001b[0m\u001b[0m\n\u001b[1;32m    948\u001b[0m \u001b[0;34m\u001b[0m\u001b[0m\n\u001b[0;32m--> 949\u001b[0;31m     with get_handle(\n\u001b[0m\u001b[1;32m    950\u001b[0m         \u001b[0mcontent_or_path\u001b[0m\u001b[0;34m,\u001b[0m \u001b[0;34m\"rb\"\u001b[0m\u001b[0;34m,\u001b[0m \u001b[0mstorage_options\u001b[0m\u001b[0;34m=\u001b[0m\u001b[0mstorage_options\u001b[0m\u001b[0;34m,\u001b[0m \u001b[0mis_text\u001b[0m\u001b[0;34m=\u001b[0m\u001b[0;32mFalse\u001b[0m\u001b[0;34m\u001b[0m\u001b[0;34m\u001b[0m\u001b[0m\n\u001b[1;32m    951\u001b[0m     ) as handle:\n",
      "\u001b[0;32m~/.local/lib/python3.8/site-packages/pandas/io/common.py\u001b[0m in \u001b[0;36mget_handle\u001b[0;34m(path_or_buf, mode, encoding, compression, memory_map, is_text, errors, storage_options)\u001b[0m\n\u001b[1;32m    649\u001b[0m         \u001b[0;32melse\u001b[0m\u001b[0;34m:\u001b[0m\u001b[0;34m\u001b[0m\u001b[0;34m\u001b[0m\u001b[0m\n\u001b[1;32m    650\u001b[0m             \u001b[0;31m# Binary mode\u001b[0m\u001b[0;34m\u001b[0m\u001b[0;34m\u001b[0m\u001b[0;34m\u001b[0m\u001b[0m\n\u001b[0;32m--> 651\u001b[0;31m             \u001b[0mhandle\u001b[0m \u001b[0;34m=\u001b[0m \u001b[0mopen\u001b[0m\u001b[0;34m(\u001b[0m\u001b[0mhandle\u001b[0m\u001b[0;34m,\u001b[0m \u001b[0mioargs\u001b[0m\u001b[0;34m.\u001b[0m\u001b[0mmode\u001b[0m\u001b[0;34m)\u001b[0m\u001b[0;34m\u001b[0m\u001b[0;34m\u001b[0m\u001b[0m\n\u001b[0m\u001b[1;32m    652\u001b[0m         \u001b[0mhandles\u001b[0m\u001b[0;34m.\u001b[0m\u001b[0mappend\u001b[0m\u001b[0;34m(\u001b[0m\u001b[0mhandle\u001b[0m\u001b[0;34m)\u001b[0m\u001b[0;34m\u001b[0m\u001b[0;34m\u001b[0m\u001b[0m\n\u001b[1;32m    653\u001b[0m \u001b[0;34m\u001b[0m\u001b[0m\n",
      "\u001b[0;31mFileNotFoundError\u001b[0m: [Errno 2] No such file or directory: 'rain_data.xlsx'"
     ]
    }
   ],
   "source": [
    "df = pd.read_excel('rain_data.xlsx', index_col=0)"
   ]
  },
  {
   "cell_type": "code",
   "execution_count": 3,
   "metadata": {},
   "outputs": [
    {
     "data": {
      "text/html": [
       "<div>\n",
       "<style scoped>\n",
       "    .dataframe tbody tr th:only-of-type {\n",
       "        vertical-align: middle;\n",
       "    }\n",
       "\n",
       "    .dataframe tbody tr th {\n",
       "        vertical-align: top;\n",
       "    }\n",
       "\n",
       "    .dataframe thead th {\n",
       "        text-align: right;\n",
       "    }\n",
       "</style>\n",
       "<table border=\"1\" class=\"dataframe\">\n",
       "  <thead>\n",
       "    <tr style=\"text-align: right;\">\n",
       "      <th></th>\n",
       "      <th>time</th>\n",
       "      <th>area1_average</th>\n",
       "      <th>area1_min</th>\n",
       "      <th>area1_max</th>\n",
       "      <th>area2_average</th>\n",
       "      <th>area2_min</th>\n",
       "      <th>area2_max</th>\n",
       "      <th>area3_average</th>\n",
       "      <th>area3_min</th>\n",
       "      <th>area3_max</th>\n",
       "      <th>...</th>\n",
       "      <th>area6_max</th>\n",
       "      <th>area7_average</th>\n",
       "      <th>area7_min</th>\n",
       "      <th>area7_max</th>\n",
       "      <th>area8_average</th>\n",
       "      <th>area8_min</th>\n",
       "      <th>area8_max</th>\n",
       "      <th>area9_average</th>\n",
       "      <th>area9_min</th>\n",
       "      <th>area9_max</th>\n",
       "    </tr>\n",
       "  </thead>\n",
       "  <tbody>\n",
       "    <tr>\n",
       "      <th>0</th>\n",
       "      <td>201011271315</td>\n",
       "      <td>--</td>\n",
       "      <td>--</td>\n",
       "      <td>--</td>\n",
       "      <td>0.00004</td>\n",
       "      <td>0.00004</td>\n",
       "      <td>0.00004</td>\n",
       "      <td>0.000082</td>\n",
       "      <td>0.00004</td>\n",
       "      <td>0.00012</td>\n",
       "      <td>...</td>\n",
       "      <td>--</td>\n",
       "      <td>--</td>\n",
       "      <td>--</td>\n",
       "      <td>--</td>\n",
       "      <td>0.000047</td>\n",
       "      <td>--</td>\n",
       "      <td>--</td>\n",
       "      <td>0.000166</td>\n",
       "      <td>0.00004</td>\n",
       "      <td>0.00044</td>\n",
       "    </tr>\n",
       "    <tr>\n",
       "      <th>1</th>\n",
       "      <td>201010211630</td>\n",
       "      <td>--</td>\n",
       "      <td>--</td>\n",
       "      <td>--</td>\n",
       "      <td>--</td>\n",
       "      <td>--</td>\n",
       "      <td>--</td>\n",
       "      <td>--</td>\n",
       "      <td>--</td>\n",
       "      <td>--</td>\n",
       "      <td>...</td>\n",
       "      <td>--</td>\n",
       "      <td>--</td>\n",
       "      <td>--</td>\n",
       "      <td>--</td>\n",
       "      <td>--</td>\n",
       "      <td>--</td>\n",
       "      <td>--</td>\n",
       "      <td>--</td>\n",
       "      <td>--</td>\n",
       "      <td>--</td>\n",
       "    </tr>\n",
       "    <tr>\n",
       "      <th>2</th>\n",
       "      <td>201010310000</td>\n",
       "      <td>--</td>\n",
       "      <td>--</td>\n",
       "      <td>--</td>\n",
       "      <td>--</td>\n",
       "      <td>--</td>\n",
       "      <td>--</td>\n",
       "      <td>--</td>\n",
       "      <td>--</td>\n",
       "      <td>--</td>\n",
       "      <td>...</td>\n",
       "      <td>--</td>\n",
       "      <td>--</td>\n",
       "      <td>--</td>\n",
       "      <td>--</td>\n",
       "      <td>--</td>\n",
       "      <td>--</td>\n",
       "      <td>--</td>\n",
       "      <td>--</td>\n",
       "      <td>--</td>\n",
       "      <td>--</td>\n",
       "    </tr>\n",
       "    <tr>\n",
       "      <th>3</th>\n",
       "      <td>201011202345</td>\n",
       "      <td>--</td>\n",
       "      <td>--</td>\n",
       "      <td>--</td>\n",
       "      <td>--</td>\n",
       "      <td>--</td>\n",
       "      <td>--</td>\n",
       "      <td>--</td>\n",
       "      <td>--</td>\n",
       "      <td>--</td>\n",
       "      <td>...</td>\n",
       "      <td>--</td>\n",
       "      <td>--</td>\n",
       "      <td>--</td>\n",
       "      <td>--</td>\n",
       "      <td>--</td>\n",
       "      <td>--</td>\n",
       "      <td>--</td>\n",
       "      <td>--</td>\n",
       "      <td>--</td>\n",
       "      <td>--</td>\n",
       "    </tr>\n",
       "    <tr>\n",
       "      <th>4</th>\n",
       "      <td>201009060300</td>\n",
       "      <td>--</td>\n",
       "      <td>--</td>\n",
       "      <td>--</td>\n",
       "      <td>--</td>\n",
       "      <td>--</td>\n",
       "      <td>--</td>\n",
       "      <td>--</td>\n",
       "      <td>--</td>\n",
       "      <td>--</td>\n",
       "      <td>...</td>\n",
       "      <td>--</td>\n",
       "      <td>--</td>\n",
       "      <td>--</td>\n",
       "      <td>--</td>\n",
       "      <td>--</td>\n",
       "      <td>--</td>\n",
       "      <td>--</td>\n",
       "      <td>--</td>\n",
       "      <td>--</td>\n",
       "      <td>--</td>\n",
       "    </tr>\n",
       "  </tbody>\n",
       "</table>\n",
       "<p>5 rows × 28 columns</p>\n",
       "</div>"
      ],
      "text/plain": [
       "           time area1_average area1_min area1_max area2_average area2_min  \\\n",
       "0  201011271315            --        --        --       0.00004   0.00004   \n",
       "1  201010211630            --        --        --            --        --   \n",
       "2  201010310000            --        --        --            --        --   \n",
       "3  201011202345            --        --        --            --        --   \n",
       "4  201009060300            --        --        --            --        --   \n",
       "\n",
       "  area2_max area3_average area3_min area3_max  ... area6_max area7_average  \\\n",
       "0   0.00004      0.000082   0.00004   0.00012  ...        --            --   \n",
       "1        --            --        --        --  ...        --            --   \n",
       "2        --            --        --        --  ...        --            --   \n",
       "3        --            --        --        --  ...        --            --   \n",
       "4        --            --        --        --  ...        --            --   \n",
       "\n",
       "  area7_min area7_max area8_average area8_min area8_max area9_average  \\\n",
       "0        --        --      0.000047        --        --      0.000166   \n",
       "1        --        --            --        --        --            --   \n",
       "2        --        --            --        --        --            --   \n",
       "3        --        --            --        --        --            --   \n",
       "4        --        --            --        --        --            --   \n",
       "\n",
       "  area9_min area9_max  \n",
       "0   0.00004   0.00044  \n",
       "1        --        --  \n",
       "2        --        --  \n",
       "3        --        --  \n",
       "4        --        --  \n",
       "\n",
       "[5 rows x 28 columns]"
      ]
     },
     "execution_count": 3,
     "metadata": {},
     "output_type": "execute_result"
    }
   ],
   "source": [
    "df.head()"
   ]
  },
  {
   "cell_type": "code",
   "execution_count": 4,
   "metadata": {},
   "outputs": [],
   "source": [
    "df1 = df.apply(pd.to_numeric, args=('coerce',))"
   ]
  },
  {
   "cell_type": "code",
   "execution_count": 5,
   "metadata": {},
   "outputs": [],
   "source": [
    "df1 = df1.replace(np.nan, 0)"
   ]
  },
  {
   "cell_type": "code",
   "execution_count": 6,
   "metadata": {},
   "outputs": [
    {
     "data": {
      "text/plain": [
       "{'area1_average': 0.1082745549920643,\n",
       " 'area2_average': 0.1360735668271958,\n",
       " 'area3_average': 0.11468287838666524,\n",
       " 'area4_average': 0.11304386753884876,\n",
       " 'area5_average': 0.11414369641334923,\n",
       " 'area6_average': 0.09516194308954055,\n",
       " 'area7_average': 0.07320295238095227,\n",
       " 'area8_average': 0.08958528289997383,\n",
       " 'area9_average': 0.1156625025378522}"
      ]
     },
     "execution_count": 6,
     "metadata": {},
     "output_type": "execute_result"
    }
   ],
   "source": [
    "sums = {}\n",
    "\n",
    "for i in range(9):\n",
    "    sums['area{}_average'.format(i + 1)] = sum([i for i in df1['area{}_average'.format(i + 1)] if i != 0])\n",
    "sums"
   ]
  },
  {
   "cell_type": "code",
   "execution_count": 7,
   "metadata": {},
   "outputs": [],
   "source": [
    "df_sum = pd.DataFrame(columns=sums.keys())"
   ]
  },
  {
   "cell_type": "code",
   "execution_count": 8,
   "metadata": {},
   "outputs": [],
   "source": [
    "df_sum = df_sum.append(sums, ignore_index=True)"
   ]
  },
  {
   "cell_type": "code",
   "execution_count": 9,
   "metadata": {},
   "outputs": [],
   "source": [
    "df_sum = df_sum.transpose()"
   ]
  },
  {
   "cell_type": "code",
   "execution_count": 10,
   "metadata": {},
   "outputs": [],
   "source": [
    "df_sum = df_sum.reset_index()"
   ]
  },
  {
   "cell_type": "code",
   "execution_count": 11,
   "metadata": {},
   "outputs": [],
   "source": [
    "df_sum.columns = ['areas', 'rain']"
   ]
  },
  {
   "cell_type": "code",
   "execution_count": 12,
   "metadata": {},
   "outputs": [
    {
     "data": {
      "text/html": [
       "<div>\n",
       "<style scoped>\n",
       "    .dataframe tbody tr th:only-of-type {\n",
       "        vertical-align: middle;\n",
       "    }\n",
       "\n",
       "    .dataframe tbody tr th {\n",
       "        vertical-align: top;\n",
       "    }\n",
       "\n",
       "    .dataframe thead th {\n",
       "        text-align: right;\n",
       "    }\n",
       "</style>\n",
       "<table border=\"1\" class=\"dataframe\">\n",
       "  <thead>\n",
       "    <tr style=\"text-align: right;\">\n",
       "      <th></th>\n",
       "      <th>areas</th>\n",
       "      <th>rain</th>\n",
       "    </tr>\n",
       "  </thead>\n",
       "  <tbody>\n",
       "    <tr>\n",
       "      <th>0</th>\n",
       "      <td>area1_average</td>\n",
       "      <td>0.108275</td>\n",
       "    </tr>\n",
       "    <tr>\n",
       "      <th>1</th>\n",
       "      <td>area2_average</td>\n",
       "      <td>0.136074</td>\n",
       "    </tr>\n",
       "    <tr>\n",
       "      <th>2</th>\n",
       "      <td>area3_average</td>\n",
       "      <td>0.114683</td>\n",
       "    </tr>\n",
       "    <tr>\n",
       "      <th>3</th>\n",
       "      <td>area4_average</td>\n",
       "      <td>0.113044</td>\n",
       "    </tr>\n",
       "    <tr>\n",
       "      <th>4</th>\n",
       "      <td>area5_average</td>\n",
       "      <td>0.114144</td>\n",
       "    </tr>\n",
       "    <tr>\n",
       "      <th>5</th>\n",
       "      <td>area6_average</td>\n",
       "      <td>0.095162</td>\n",
       "    </tr>\n",
       "    <tr>\n",
       "      <th>6</th>\n",
       "      <td>area7_average</td>\n",
       "      <td>0.073203</td>\n",
       "    </tr>\n",
       "    <tr>\n",
       "      <th>7</th>\n",
       "      <td>area8_average</td>\n",
       "      <td>0.089585</td>\n",
       "    </tr>\n",
       "    <tr>\n",
       "      <th>8</th>\n",
       "      <td>area9_average</td>\n",
       "      <td>0.115663</td>\n",
       "    </tr>\n",
       "  </tbody>\n",
       "</table>\n",
       "</div>"
      ],
      "text/plain": [
       "           areas      rain\n",
       "0  area1_average  0.108275\n",
       "1  area2_average  0.136074\n",
       "2  area3_average  0.114683\n",
       "3  area4_average  0.113044\n",
       "4  area5_average  0.114144\n",
       "5  area6_average  0.095162\n",
       "6  area7_average  0.073203\n",
       "7  area8_average  0.089585\n",
       "8  area9_average  0.115663"
      ]
     },
     "execution_count": 12,
     "metadata": {},
     "output_type": "execute_result"
    }
   ],
   "source": [
    "df_sum"
   ]
  },
  {
   "cell_type": "code",
   "execution_count": 19,
   "metadata": {},
   "outputs": [
    {
     "data": {
      "text/plain": [
       "Text(0, 0.5, 'instant rain kg/(m2.s)')"
      ]
     },
     "execution_count": 19,
     "metadata": {},
     "output_type": "execute_result"
    },
    {
     "data": {
      "image/png": "[encoded data removed]",
      "text/plain": [
       "<Figure size 1440x720 with 1 Axes>"
      ]
     },
     "metadata": {
      "needs_background": "light"
     },
     "output_type": "display_data"
    }
   ],
   "source": [
    "ax = df_sum.plot.bar(x='areas', y='rain', rot=0, figsize=(20, 10))\n",
    "ax.set_title('total instant rain during 2010', fontsize=20)\n",
    "ax.set_ylabel('instant rain kg/(m2.s)', fontsize=15)"
   ]
  },
  {
   "cell_type": "code",
   "execution_count": 21,
   "metadata": {},
   "outputs": [
    {
     "data": {
      "text/plain": [
       "([0.0004337190082644629,\n",
       "  0.0005426966292134832,\n",
       "  0.00047726495726495733,\n",
       "  0.0004606211180124224,\n",
       "  0.0005195107033639144,\n",
       "  0.00046181818181818184,\n",
       "  0.00034978102189781024,\n",
       "  0.0004887022900763358,\n",
       "  0.0006281918819188192],\n",
       " ['area1_max',\n",
       "  'area2_max',\n",
       "  'area3_max',\n",
       "  'area4_max',\n",
       "  'area5_max',\n",
       "  'area6_max',\n",
       "  'area7_max',\n",
       "  'area8_max',\n",
       "  'area9_max'])"
      ]
     },
     "execution_count": 21,
     "metadata": {},
     "output_type": "execute_result"
    }
   ],
   "source": [
    "maxs = []\n",
    "labs = []\n",
    "for i in range(9):\n",
    "    maxs.append(np.average([i for i in df1['area{}_max'.format(i + 1)] if i != 0]))\n",
    "    labs.append('area{}_max'.format(i + 1))\n",
    "maxs, labs"
   ]
  },
  {
   "cell_type": "code",
   "execution_count": 22,
   "metadata": {},
   "outputs": [],
   "source": [
    "df_max = pd.DataFrame({'areas': labs, 'maxs': maxs})"
   ]
  },
  {
   "cell_type": "code",
   "execution_count": 23,
   "metadata": {},
   "outputs": [
    {
     "data": {
      "text/plain": [
       "Text(0, 0.5, 'instant rain kg/(m2.s)')"
      ]
     },
     "execution_count": 23,
     "metadata": {},
     "output_type": "execute_result"
    },
    {
     "data": {
      "image/png": "[encoded data removed]",
      "text/plain": [
       "<Figure size 1440x720 with 1 Axes>"
      ]
     },
     "metadata": {
      "needs_background": "light"
     },
     "output_type": "display_data"
    }
   ],
   "source": [
    "ax = df_max.plot.bar('areas', 'maxs', rot=0, figsize=(20, 10))\n",
    "ax.set_title('average maximum instant rain during 2010', fontsize=20)\n",
    "ax.set_ylabel('instant rain kg/(m2.s)', fontsize=15)"
   ]
  },
  {
   "cell_type": "code",
   "execution_count": 24,
   "metadata": {},
   "outputs": [
    {
     "data": {
      "text/plain": [
       "([0.00014436607332275273,\n",
       "  0.00016966778906134155,\n",
       "  0.0001691487881809225,\n",
       "  0.00016551078702613305,\n",
       "  0.00014126695100662065,\n",
       "  0.0001387200336582225,\n",
       "  0.00019213373328333963,\n",
       "  0.0001311643966324656,\n",
       "  0.00014002724278190356],\n",
       " ['area1_min',\n",
       "  'area2_min',\n",
       "  'area3_min',\n",
       "  'area4_min',\n",
       "  'area5_min',\n",
       "  'area6_min',\n",
       "  'area7_min',\n",
       "  'area8_min',\n",
       "  'area9_min'])"
      ]
     },
     "execution_count": 24,
     "metadata": {},
     "output_type": "execute_result"
    }
   ],
   "source": [
    "mins = []\n",
    "labs = []\n",
    "for i in range(9):\n",
    "    mins.append(np.average([i for i in df1['area{}_average'.format(i + 1)] if i != 0]))\n",
    "    labs.append('area{}_min'.format(i + 1))\n",
    "mins, labs"
   ]
  },
  {
   "cell_type": "code",
   "execution_count": 25,
   "metadata": {},
   "outputs": [],
   "source": [
    "df_min = pd.DataFrame({'areas': labs, 'mins': mins})"
   ]
  },
  {
   "cell_type": "code",
   "execution_count": 27,
   "metadata": {},
   "outputs": [
    {
     "data": {
      "text/plain": [
       "Text(0, 0.5, 'instant rain kg/(m2.s)')"
      ]
     },
     "execution_count": 27,
     "metadata": {},
     "output_type": "execute_result"
    },
    {
     "data": {
      "image/png": "[encoded data removed]",
      "text/plain": [
       "<Figure size 1440x720 with 1 Axes>"
      ]
     },
     "metadata": {
      "needs_background": "light"
     },
     "output_type": "display_data"
    }
   ],
   "source": [
    "ax = df_min.plot.bar('areas', 'mins', rot=0, figsize=(20, 10))\n",
    "ax.set_title('average minimum instant rain during 2010', fontsize=20)\n",
    "ax.set_ylabel('instant rain kg/(m2.s)', fontsize=15)"
   ]
  },
  {
   "cell_type": "code",
   "execution_count": 121,
   "metadata": {},
   "outputs": [
    {
     "data": {
      "text/html": [
       "<div>\n",
       "<style scoped>\n",
       "    .dataframe tbody tr th:only-of-type {\n",
       "        vertical-align: middle;\n",
       "    }\n",
       "\n",
       "    .dataframe tbody tr th {\n",
       "        vertical-align: top;\n",
       "    }\n",
       "\n",
       "    .dataframe thead th {\n",
       "        text-align: right;\n",
       "    }\n",
       "</style>\n",
       "<table border=\"1\" class=\"dataframe\">\n",
       "  <thead>\n",
       "    <tr style=\"text-align: right;\">\n",
       "      <th></th>\n",
       "      <th>time</th>\n",
       "    </tr>\n",
       "  </thead>\n",
       "  <tbody>\n",
       "    <tr>\n",
       "      <th>count</th>\n",
       "      <td>2.651000e+03</td>\n",
       "    </tr>\n",
       "    <tr>\n",
       "      <th>mean</th>\n",
       "      <td>2.010102e+11</td>\n",
       "    </tr>\n",
       "    <tr>\n",
       "      <th>std</th>\n",
       "      <td>8.123413e+05</td>\n",
       "    </tr>\n",
       "    <tr>\n",
       "      <th>min</th>\n",
       "      <td>2.010090e+11</td>\n",
       "    </tr>\n",
       "    <tr>\n",
       "      <th>25%</th>\n",
       "      <td>2.010092e+11</td>\n",
       "    </tr>\n",
       "    <tr>\n",
       "      <th>50%</th>\n",
       "      <td>2.010102e+11</td>\n",
       "    </tr>\n",
       "    <tr>\n",
       "      <th>75%</th>\n",
       "      <td>2.010111e+11</td>\n",
       "    </tr>\n",
       "    <tr>\n",
       "      <th>max</th>\n",
       "      <td>2.010113e+11</td>\n",
       "    </tr>\n",
       "  </tbody>\n",
       "</table>\n",
       "</div>"
      ],
      "text/plain": [
       "               time\n",
       "count  2.651000e+03\n",
       "mean   2.010102e+11\n",
       "std    8.123413e+05\n",
       "min    2.010090e+11\n",
       "25%    2.010092e+11\n",
       "50%    2.010102e+11\n",
       "75%    2.010111e+11\n",
       "max    2.010113e+11"
      ]
     },
     "execution_count": 121,
     "metadata": {},
     "output_type": "execute_result"
    }
   ],
   "source": [
    "df.describe()"
   ]
  },
  {
   "cell_type": "code",
   "execution_count": 1,
   "metadata": {},
   "outputs": [
    {
     "ename": "NameError",
     "evalue": "name 'pd' is not defined",
     "output_type": "error",
     "traceback": [
      "\u001b[0;31m---------------------------------------------------------------------------\u001b[0m",
      "\u001b[0;31mNameError\u001b[0m                                 Traceback (most recent call last)",
      "\u001b[0;32m<ipython-input-1-d79b7ee0e005>\u001b[0m in \u001b[0;36m<module>\u001b[0;34m\u001b[0m\n\u001b[1;32m      1\u001b[0m \u001b[0mfile\u001b[0m \u001b[0;34m=\u001b[0m \u001b[0;34m'erosion_data/ero_rpr.shp'\u001b[0m\u001b[0;34m\u001b[0m\u001b[0;34m\u001b[0m\u001b[0m\n\u001b[1;32m      2\u001b[0m \u001b[0;31m# for layername in fiona.listlayers(file):\u001b[0m\u001b[0;34m\u001b[0m\u001b[0;34m\u001b[0m\u001b[0;34m\u001b[0m\u001b[0m\n\u001b[0;32m----> 3\u001b[0;31m \u001b[0mpoints\u001b[0m \u001b[0;34m=\u001b[0m \u001b[0mpd\u001b[0m\u001b[0;34m.\u001b[0m\u001b[0mDataFrame\u001b[0m\u001b[0;34m(\u001b[0m\u001b[0mcolumns\u001b[0m\u001b[0;34m=\u001b[0m\u001b[0mlist\u001b[0m\u001b[0;34m(\u001b[0m\u001b[0;34m'XY'\u001b[0m\u001b[0;34m)\u001b[0m \u001b[0;34m+\u001b[0m \u001b[0;34m[\u001b[0m\u001b[0;34m'id'\u001b[0m\u001b[0;34m]\u001b[0m\u001b[0;34m)\u001b[0m\u001b[0;34m\u001b[0m\u001b[0;34m\u001b[0m\u001b[0m\n\u001b[0m\u001b[1;32m      4\u001b[0m \u001b[0mnames\u001b[0m \u001b[0;34m=\u001b[0m \u001b[0mset\u001b[0m\u001b[0;34m(\u001b[0m\u001b[0;34m)\u001b[0m\u001b[0;34m\u001b[0m\u001b[0;34m\u001b[0m\u001b[0m\n\u001b[1;32m      5\u001b[0m \u001b[0;32mwith\u001b[0m \u001b[0mfiona\u001b[0m\u001b[0;34m.\u001b[0m\u001b[0mopen\u001b[0m\u001b[0;34m(\u001b[0m\u001b[0mfile\u001b[0m\u001b[0;34m)\u001b[0m \u001b[0;32mas\u001b[0m \u001b[0msrc\u001b[0m\u001b[0;34m:\u001b[0m\u001b[0;34m\u001b[0m\u001b[0;34m\u001b[0m\u001b[0m\n",
      "\u001b[0;31mNameError\u001b[0m: name 'pd' is not defined"
     ]
    }
   ],
   "source": [
    "file = 'erosion_data/ero_rpr.shp'\n",
    "# for layername in fiona.listlayers(file):\n",
    "points = pd.DataFrame(columns=list('XY') + ['id'])\n",
    "names = set()\n",
    "with fiona.open(file) as src:\n",
    "    while True:\n",
    "        try:\n",
    "            f = next(src)\n",
    "            name = f['properties']['Name']\n",
    "            name = name[:-4]\n",
    "            names.add(name)\n",
    "            poly = f['geometry']['coordinates']\n",
    "            coordinates = poly[0][0]\n",
    "            x = coordinates[0]\n",
    "            y = coordinates[1]\n",
    "            point = {'X': x, 'Y': y, 'id': name}\n",
    "            points = points.append(point, ignore_index=True)\n",
    "#             break\n",
    "        except:\n",
    "            break\n",
    "# print(poly)\n",
    "print(points)\n",
    "points.to_csv('points_id.csv')"
   ]
  },
  {
   "cell_type": "code",
   "execution_count": 61,
   "metadata": {},
   "outputs": [],
   "source": [
    "import pandas as pd"
   ]
  },
  {
   "cell_type": "code",
   "execution_count": 62,
   "metadata": {},
   "outputs": [],
   "source": [
    "df_erosion = pd.read_excel('erosion_data/erosion.ods', skiprows=5)"
   ]
  },
  {
   "cell_type": "code",
   "execution_count": 63,
   "metadata": {
    "scrolled": true
   },
   "outputs": [
    {
     "data": {
      "text/html": [
       "<div>\n",
       "<style scoped>\n",
       "    .dataframe tbody tr th:only-of-type {\n",
       "        vertical-align: middle;\n",
       "    }\n",
       "\n",
       "    .dataframe tbody tr th {\n",
       "        vertical-align: top;\n",
       "    }\n",
       "\n",
       "    .dataframe thead th {\n",
       "        text-align: right;\n",
       "    }\n",
       "</style>\n",
       "<table border=\"1\" class=\"dataframe\">\n",
       "  <thead>\n",
       "    <tr style=\"text-align: right;\">\n",
       "      <th></th>\n",
       "      <th>id</th>\n",
       "      <th>erosion_protocol</th>\n",
       "      <th>area_ha_2010</th>\n",
       "      <th>area_ha_2009</th>\n",
       "      <th>area_ha_2008</th>\n",
       "      <th>plowing_2010</th>\n",
       "      <th>plowing_2009</th>\n",
       "      <th>plowing_2008</th>\n",
       "      <th>other_basic_cultivation_2010</th>\n",
       "      <th>other_basic_cultivation_2009</th>\n",
       "      <th>...</th>\n",
       "      <th>gully_erosion_2008</th>\n",
       "      <th>sedimentation_erosion_2010</th>\n",
       "      <th>sedimentation_erosion_2009</th>\n",
       "      <th>sedimentation_erosion_2008</th>\n",
       "      <th>other_erosion_2010</th>\n",
       "      <th>other_erosion_2009</th>\n",
       "      <th>other_erosion_2008</th>\n",
       "      <th>participation in AKG program 2010</th>\n",
       "      <th>participation in AKG program 2009</th>\n",
       "      <th>participation in AKG program 2008</th>\n",
       "    </tr>\n",
       "  </thead>\n",
       "  <tbody>\n",
       "    <tr>\n",
       "      <th>0</th>\n",
       "      <td>02001/02</td>\n",
       "      <td>nem</td>\n",
       "      <td>21.9</td>\n",
       "      <td>21.9</td>\n",
       "      <td>21.9</td>\n",
       "      <td>igen</td>\n",
       "      <td>igen</td>\n",
       "      <td>igen</td>\n",
       "      <td>nem</td>\n",
       "      <td>nem</td>\n",
       "      <td>...</td>\n",
       "      <td>nem</td>\n",
       "      <td>nem</td>\n",
       "      <td>nem</td>\n",
       "      <td>nem</td>\n",
       "      <td>nem</td>\n",
       "      <td>nem</td>\n",
       "      <td>nem</td>\n",
       "      <td>3 - ökológiai szántóföldi növénytermesztési cé...</td>\n",
       "      <td>3 - ökológiai szántóföldi növénytermesztési cé...</td>\n",
       "      <td>5 - ökológiai szántóföldi növénytermesztési cé...</td>\n",
       "    </tr>\n",
       "    <tr>\n",
       "      <th>1</th>\n",
       "      <td>02001/03</td>\n",
       "      <td>nem</td>\n",
       "      <td>14.2</td>\n",
       "      <td>14.2</td>\n",
       "      <td>14.2</td>\n",
       "      <td>igen</td>\n",
       "      <td>nem</td>\n",
       "      <td>nem</td>\n",
       "      <td>igen</td>\n",
       "      <td>nem</td>\n",
       "      <td>...</td>\n",
       "      <td>nem</td>\n",
       "      <td>nem</td>\n",
       "      <td>nem</td>\n",
       "      <td>nem</td>\n",
       "      <td>nem</td>\n",
       "      <td>nem</td>\n",
       "      <td>nem</td>\n",
       "      <td>3 - ökológiai szántóföldi növénytermesztési cé...</td>\n",
       "      <td>3 - ökológiai szántóföldi növénytermesztési cé...</td>\n",
       "      <td>5 - ökológiai szántóföldi növénytermesztési cé...</td>\n",
       "    </tr>\n",
       "    <tr>\n",
       "      <th>2</th>\n",
       "      <td>02001/04</td>\n",
       "      <td>nem</td>\n",
       "      <td>22.0</td>\n",
       "      <td>22.0</td>\n",
       "      <td>22.0</td>\n",
       "      <td>igen</td>\n",
       "      <td>igen</td>\n",
       "      <td>igen</td>\n",
       "      <td>igen</td>\n",
       "      <td>nem</td>\n",
       "      <td>...</td>\n",
       "      <td>nem</td>\n",
       "      <td>nem</td>\n",
       "      <td>nem</td>\n",
       "      <td>nem</td>\n",
       "      <td>nem</td>\n",
       "      <td>nem</td>\n",
       "      <td>nem</td>\n",
       "      <td>3 - ökológiai szántóföldi növénytermesztési cé...</td>\n",
       "      <td>3 - ökológiai szántóföldi növénytermesztési cé...</td>\n",
       "      <td>5 - ökológiai szántóföldi növénytermesztési cé...</td>\n",
       "    </tr>\n",
       "    <tr>\n",
       "      <th>3</th>\n",
       "      <td>02001/06</td>\n",
       "      <td>nem</td>\n",
       "      <td>32.0</td>\n",
       "      <td>32.0</td>\n",
       "      <td>32.0</td>\n",
       "      <td>igen</td>\n",
       "      <td>nem</td>\n",
       "      <td>igen</td>\n",
       "      <td>nem</td>\n",
       "      <td>igen</td>\n",
       "      <td>...</td>\n",
       "      <td>nem</td>\n",
       "      <td>nem</td>\n",
       "      <td>nem</td>\n",
       "      <td>nem</td>\n",
       "      <td>nem</td>\n",
       "      <td>nem</td>\n",
       "      <td>nem</td>\n",
       "      <td>3 - ökológiai szántóföldi növénytermesztési cé...</td>\n",
       "      <td>3 - ökológiai szántóföldi növénytermesztési cé...</td>\n",
       "      <td>5 - ökológiai szántóföldi növénytermesztési cé...</td>\n",
       "    </tr>\n",
       "    <tr>\n",
       "      <th>4</th>\n",
       "      <td>02001/07</td>\n",
       "      <td>igen</td>\n",
       "      <td>23.2</td>\n",
       "      <td>23.2</td>\n",
       "      <td>23.2</td>\n",
       "      <td>igen</td>\n",
       "      <td>igen</td>\n",
       "      <td>igen</td>\n",
       "      <td>nem</td>\n",
       "      <td>nem</td>\n",
       "      <td>...</td>\n",
       "      <td>nem</td>\n",
       "      <td>nem</td>\n",
       "      <td>nem</td>\n",
       "      <td>nem</td>\n",
       "      <td>nem</td>\n",
       "      <td>nem</td>\n",
       "      <td>nem</td>\n",
       "      <td>3 - ökológiai szántóföldi növénytermesztési cé...</td>\n",
       "      <td>3 - ökológiai szántóföldi növénytermesztési cé...</td>\n",
       "      <td>5 - ökológiai szántóföldi növénytermesztési cé...</td>\n",
       "    </tr>\n",
       "    <tr>\n",
       "      <th>...</th>\n",
       "      <td>...</td>\n",
       "      <td>...</td>\n",
       "      <td>...</td>\n",
       "      <td>...</td>\n",
       "      <td>...</td>\n",
       "      <td>...</td>\n",
       "      <td>...</td>\n",
       "      <td>...</td>\n",
       "      <td>...</td>\n",
       "      <td>...</td>\n",
       "      <td>...</td>\n",
       "      <td>...</td>\n",
       "      <td>...</td>\n",
       "      <td>...</td>\n",
       "      <td>...</td>\n",
       "      <td>...</td>\n",
       "      <td>...</td>\n",
       "      <td>...</td>\n",
       "      <td>...</td>\n",
       "      <td>...</td>\n",
       "      <td>...</td>\n",
       "    </tr>\n",
       "    <tr>\n",
       "      <th>1877</th>\n",
       "      <td>20018/04</td>\n",
       "      <td>nem</td>\n",
       "      <td>56.0</td>\n",
       "      <td>56.0</td>\n",
       "      <td>56.0</td>\n",
       "      <td>nem</td>\n",
       "      <td>igen</td>\n",
       "      <td>igen</td>\n",
       "      <td>igen</td>\n",
       "      <td>nem</td>\n",
       "      <td>...</td>\n",
       "      <td>nem</td>\n",
       "      <td>igen</td>\n",
       "      <td>nem</td>\n",
       "      <td>igen</td>\n",
       "      <td>nem</td>\n",
       "      <td>nem</td>\n",
       "      <td>nem</td>\n",
       "      <td>1 - integrált szántóföldi növénytermesztési cé...</td>\n",
       "      <td>1 - integrált szántóföldi növénytermesztési cé...</td>\n",
       "      <td>1 - alapszintû szántóföldi célprogram</td>\n",
       "    </tr>\n",
       "    <tr>\n",
       "      <th>1878</th>\n",
       "      <td>20018/06</td>\n",
       "      <td>nem</td>\n",
       "      <td>13.3</td>\n",
       "      <td>13.3</td>\n",
       "      <td>13.3</td>\n",
       "      <td>igen</td>\n",
       "      <td>igen</td>\n",
       "      <td>igen</td>\n",
       "      <td>nem</td>\n",
       "      <td>igen</td>\n",
       "      <td>...</td>\n",
       "      <td>nem</td>\n",
       "      <td>nem</td>\n",
       "      <td>igen</td>\n",
       "      <td>nem</td>\n",
       "      <td>nem</td>\n",
       "      <td>nem</td>\n",
       "      <td>nem</td>\n",
       "      <td>1 - integrált szántóföldi növénytermesztési cé...</td>\n",
       "      <td>1 - integrált szántóföldi növénytermesztési cé...</td>\n",
       "      <td>1 - alapszintû szántóföldi célprogram</td>\n",
       "    </tr>\n",
       "    <tr>\n",
       "      <th>1879</th>\n",
       "      <td>20018/07</td>\n",
       "      <td>nem</td>\n",
       "      <td>10.9</td>\n",
       "      <td>10.9</td>\n",
       "      <td>10.9</td>\n",
       "      <td>igen</td>\n",
       "      <td>igen</td>\n",
       "      <td>igen</td>\n",
       "      <td>nem</td>\n",
       "      <td>igen</td>\n",
       "      <td>...</td>\n",
       "      <td>nem</td>\n",
       "      <td>nem</td>\n",
       "      <td>igen</td>\n",
       "      <td>nem</td>\n",
       "      <td>nem</td>\n",
       "      <td>nem</td>\n",
       "      <td>nem</td>\n",
       "      <td>1 - integrált szántóföldi növénytermesztési cé...</td>\n",
       "      <td>1 - integrált szántóföldi növénytermesztési cé...</td>\n",
       "      <td>1 - alapszintû szántóföldi célprogram</td>\n",
       "    </tr>\n",
       "    <tr>\n",
       "      <th>1880</th>\n",
       "      <td>20018/08</td>\n",
       "      <td>nem</td>\n",
       "      <td>15.5</td>\n",
       "      <td>15.5</td>\n",
       "      <td>15.5</td>\n",
       "      <td>nem</td>\n",
       "      <td>nem</td>\n",
       "      <td>igen</td>\n",
       "      <td>igen</td>\n",
       "      <td>igen</td>\n",
       "      <td>...</td>\n",
       "      <td>nem</td>\n",
       "      <td>nem</td>\n",
       "      <td>nem</td>\n",
       "      <td>nem</td>\n",
       "      <td>nem</td>\n",
       "      <td>nem</td>\n",
       "      <td>nem</td>\n",
       "      <td>1 - integrált szántóföldi növénytermesztési cé...</td>\n",
       "      <td>1 - integrált szántóföldi növénytermesztési cé...</td>\n",
       "      <td>1 - alapszintû szántóföldi célprogram</td>\n",
       "    </tr>\n",
       "    <tr>\n",
       "      <th>1881</th>\n",
       "      <td>20018/10</td>\n",
       "      <td>nem</td>\n",
       "      <td>46.3</td>\n",
       "      <td>46.3</td>\n",
       "      <td>46.3</td>\n",
       "      <td>nem</td>\n",
       "      <td>nem</td>\n",
       "      <td>igen</td>\n",
       "      <td>igen</td>\n",
       "      <td>igen</td>\n",
       "      <td>...</td>\n",
       "      <td>nem</td>\n",
       "      <td>nem</td>\n",
       "      <td>nem</td>\n",
       "      <td>nem</td>\n",
       "      <td>nem</td>\n",
       "      <td>nem</td>\n",
       "      <td>nem</td>\n",
       "      <td>1 - integrált szántóföldi növénytermesztési cé...</td>\n",
       "      <td>1 - integrált szántóföldi növénytermesztési cé...</td>\n",
       "      <td>1 - alapszintû szántóföldi célprogram</td>\n",
       "    </tr>\n",
       "  </tbody>\n",
       "</table>\n",
       "<p>1882 rows × 62 columns</p>\n",
       "</div>"
      ],
      "text/plain": [
       "            id erosion_protocol  area_ha_2010  area_ha_2009  area_ha_2008  \\\n",
       "0     02001/02              nem          21.9          21.9          21.9   \n",
       "1     02001/03              nem          14.2          14.2          14.2   \n",
       "2     02001/04              nem          22.0          22.0          22.0   \n",
       "3     02001/06              nem          32.0          32.0          32.0   \n",
       "4     02001/07             igen          23.2          23.2          23.2   \n",
       "...        ...              ...           ...           ...           ...   \n",
       "1877  20018/04              nem          56.0          56.0          56.0   \n",
       "1878  20018/06              nem          13.3          13.3          13.3   \n",
       "1879  20018/07              nem          10.9          10.9          10.9   \n",
       "1880  20018/08              nem          15.5          15.5          15.5   \n",
       "1881  20018/10              nem          46.3          46.3          46.3   \n",
       "\n",
       "     plowing_2010 plowing_2009 plowing_2008 other_basic_cultivation_2010  \\\n",
       "0            igen         igen         igen                          nem   \n",
       "1            igen          nem          nem                         igen   \n",
       "2            igen         igen         igen                         igen   \n",
       "3            igen          nem         igen                          nem   \n",
       "4            igen         igen         igen                          nem   \n",
       "...           ...          ...          ...                          ...   \n",
       "1877          nem         igen         igen                         igen   \n",
       "1878         igen         igen         igen                          nem   \n",
       "1879         igen         igen         igen                          nem   \n",
       "1880          nem          nem         igen                         igen   \n",
       "1881          nem          nem         igen                         igen   \n",
       "\n",
       "     other_basic_cultivation_2009   ... gully_erosion_2008  \\\n",
       "0                              nem  ...                nem   \n",
       "1                              nem  ...                nem   \n",
       "2                              nem  ...                nem   \n",
       "3                             igen  ...                nem   \n",
       "4                              nem  ...                nem   \n",
       "...                            ...  ...                ...   \n",
       "1877                           nem  ...                nem   \n",
       "1878                          igen  ...                nem   \n",
       "1879                          igen  ...                nem   \n",
       "1880                          igen  ...                nem   \n",
       "1881                          igen  ...                nem   \n",
       "\n",
       "     sedimentation_erosion_2010 sedimentation_erosion_2009  \\\n",
       "0                           nem                        nem   \n",
       "1                           nem                        nem   \n",
       "2                           nem                        nem   \n",
       "3                           nem                        nem   \n",
       "4                           nem                        nem   \n",
       "...                         ...                        ...   \n",
       "1877                       igen                        nem   \n",
       "1878                        nem                       igen   \n",
       "1879                        nem                       igen   \n",
       "1880                        nem                        nem   \n",
       "1881                        nem                        nem   \n",
       "\n",
       "     sedimentation_erosion_2008 other_erosion_2010 other_erosion_2009  \\\n",
       "0                           nem                nem                nem   \n",
       "1                           nem                nem                nem   \n",
       "2                           nem                nem                nem   \n",
       "3                           nem                nem                nem   \n",
       "4                           nem                nem                nem   \n",
       "...                         ...                ...                ...   \n",
       "1877                       igen                nem                nem   \n",
       "1878                        nem                nem                nem   \n",
       "1879                        nem                nem                nem   \n",
       "1880                        nem                nem                nem   \n",
       "1881                        nem                nem                nem   \n",
       "\n",
       "     other_erosion_2008                  participation in AKG program 2010  \\\n",
       "0                   nem  3 - ökológiai szántóföldi növénytermesztési cé...   \n",
       "1                   nem  3 - ökológiai szántóföldi növénytermesztési cé...   \n",
       "2                   nem  3 - ökológiai szántóföldi növénytermesztési cé...   \n",
       "3                   nem  3 - ökológiai szántóföldi növénytermesztési cé...   \n",
       "4                   nem  3 - ökológiai szántóföldi növénytermesztési cé...   \n",
       "...                 ...                                                ...   \n",
       "1877                nem  1 - integrált szántóföldi növénytermesztési cé...   \n",
       "1878                nem  1 - integrált szántóföldi növénytermesztési cé...   \n",
       "1879                nem  1 - integrált szántóföldi növénytermesztési cé...   \n",
       "1880                nem  1 - integrált szántóföldi növénytermesztési cé...   \n",
       "1881                nem  1 - integrált szántóföldi növénytermesztési cé...   \n",
       "\n",
       "                      participation in AKG program 2009  \\\n",
       "0     3 - ökológiai szántóföldi növénytermesztési cé...   \n",
       "1     3 - ökológiai szántóföldi növénytermesztési cé...   \n",
       "2     3 - ökológiai szántóföldi növénytermesztési cé...   \n",
       "3     3 - ökológiai szántóföldi növénytermesztési cé...   \n",
       "4     3 - ökológiai szántóföldi növénytermesztési cé...   \n",
       "...                                                 ...   \n",
       "1877  1 - integrált szántóföldi növénytermesztési cé...   \n",
       "1878  1 - integrált szántóföldi növénytermesztési cé...   \n",
       "1879  1 - integrált szántóföldi növénytermesztési cé...   \n",
       "1880  1 - integrált szántóföldi növénytermesztési cé...   \n",
       "1881  1 - integrált szántóföldi növénytermesztési cé...   \n",
       "\n",
       "                      participation in AKG program 2008  \n",
       "0     5 - ökológiai szántóföldi növénytermesztési cé...  \n",
       "1     5 - ökológiai szántóföldi növénytermesztési cé...  \n",
       "2     5 - ökológiai szántóföldi növénytermesztési cé...  \n",
       "3     5 - ökológiai szántóföldi növénytermesztési cé...  \n",
       "4     5 - ökológiai szántóföldi növénytermesztési cé...  \n",
       "...                                                 ...  \n",
       "1877              1 - alapszintû szántóföldi célprogram  \n",
       "1878              1 - alapszintû szántóföldi célprogram  \n",
       "1879              1 - alapszintû szántóföldi célprogram  \n",
       "1880              1 - alapszintû szántóföldi célprogram  \n",
       "1881              1 - alapszintû szántóföldi célprogram  \n",
       "\n",
       "[1882 rows x 62 columns]"
      ]
     },
     "execution_count": 63,
     "metadata": {},
     "output_type": "execute_result"
    }
   ],
   "source": [
    "df_erosion"
   ]
  },
  {
   "cell_type": "code",
   "execution_count": 64,
   "metadata": {},
   "outputs": [
    {
     "data": {
      "text/plain": [
       "id                                    object\n",
       "erosion_protocol                      object\n",
       "area_ha_2010                         float64\n",
       "area_ha_2009                         float64\n",
       "area_ha_2008                         float64\n",
       "                                      ...   \n",
       "other_erosion_2009                    object\n",
       "other_erosion_2008                    object\n",
       "participation in AKG program 2010     object\n",
       "participation in AKG program 2009     object\n",
       "participation in AKG program 2008     object\n",
       "Length: 62, dtype: object"
      ]
     },
     "execution_count": 64,
     "metadata": {},
     "output_type": "execute_result"
    }
   ],
   "source": [
    "df_erosion.dtypes"
   ]
  },
  {
   "cell_type": "code",
   "execution_count": 65,
   "metadata": {},
   "outputs": [],
   "source": [
    "import json"
   ]
  },
  {
   "cell_type": "code",
   "execution_count": 66,
   "metadata": {},
   "outputs": [],
   "source": [
    "with open('areas/areas.json') as file:\n",
    "    areas = json.load(file)"
   ]
  },
  {
   "cell_type": "code",
   "execution_count": 67,
   "metadata": {},
   "outputs": [
    {
     "data": {
      "text/plain": [
       "['05017/08', '05006/04', '05004/08', '05011/01', '05019/04', '05013/09']"
      ]
     },
     "execution_count": 67,
     "metadata": {},
     "output_type": "execute_result"
    }
   ],
   "source": [
    "areas['area1']"
   ]
  },
  {
   "cell_type": "code",
   "execution_count": 68,
   "metadata": {},
   "outputs": [
    {
     "data": {
      "text/plain": [
       "['05017/08',\n",
       " '05006/04',\n",
       " '05004/08',\n",
       " '05011/01',\n",
       " '05019/04',\n",
       " '05013/09',\n",
       " '10009/03',\n",
       " '10007/07',\n",
       " '10002/06',\n",
       " '10015/01',\n",
       " '12009/01',\n",
       " '12008/01',\n",
       " '12004/08',\n",
       " '12007/11',\n",
       " '13006/09',\n",
       " '13004/03',\n",
       " '13001/16',\n",
       " '13016/06',\n",
       " '13022/12',\n",
       " '07003/17',\n",
       " '07015/12',\n",
       " '11003/12',\n",
       " '07019/01',\n",
       " '07022/01',\n",
       " '11006/07',\n",
       " '11011/06',\n",
       " '11017/04',\n",
       " '11010/06',\n",
       " '19004/04',\n",
       " '19006/07',\n",
       " '19012/13',\n",
       " '08004/01',\n",
       " '08004/04',\n",
       " '08017/19',\n",
       " '08005/21',\n",
       " '19016/02',\n",
       " '19007/18',\n",
       " '19009/01',\n",
       " '18018/10',\n",
       " '08021/21',\n",
       " '18013/02',\n",
       " '18015/06',\n",
       " '18002/15',\n",
       " '20002/05',\n",
       " '20003/02',\n",
       " '20008/24',\n",
       " '20001/02',\n",
       " '20010/06',\n",
       " '20007/03',\n",
       " '02020/13',\n",
       " '14009/01',\n",
       " '14007/02',\n",
       " '14018/08',\n",
       " '14005/10',\n",
       " '14001/07',\n",
       " '14015/05',\n",
       " '17007/01',\n",
       " '17015/01',\n",
       " '17016/18',\n",
       " '17019/08',\n",
       " '17002/07',\n",
       " '02001/07',\n",
       " '02009/05',\n",
       " '02017/30',\n",
       " '02015/05']"
      ]
     },
     "execution_count": 68,
     "metadata": {},
     "output_type": "execute_result"
    }
   ],
   "source": [
    "a = []\n",
    "for area, areas_list in areas.items():\n",
    "    a += areas_list\n",
    "a"
   ]
  },
  {
   "cell_type": "code",
   "execution_count": 69,
   "metadata": {},
   "outputs": [],
   "source": [
    "df = df_erosion.set_index('id')"
   ]
  },
  {
   "cell_type": "code",
   "execution_count": 70,
   "metadata": {},
   "outputs": [],
   "source": [
    "df = df.loc[a]"
   ]
  },
  {
   "cell_type": "code",
   "execution_count": 71,
   "metadata": {},
   "outputs": [],
   "source": [
    "areas_series = []\n",
    "for i in df.index.values:\n",
    "    for area, areas_list in areas.items():\n",
    "        if i in areas_list:\n",
    "            areas_series.append(area)\n",
    "df['area'] = pd.Series(areas_series, index=df.index.values.tolist())"
   ]
  },
  {
   "cell_type": "code",
   "execution_count": 72,
   "metadata": {},
   "outputs": [],
   "source": [
    "df = df.replace('igen', 1)\n",
    "df = df.replace('nem', 0)"
   ]
  },
  {
   "cell_type": "code",
   "execution_count": 73,
   "metadata": {},
   "outputs": [],
   "source": [
    "df.to_excel('erosion_data.xlsx')"
   ]
  },
  {
   "cell_type": "code",
   "execution_count": 58,
   "metadata": {},
   "outputs": [
    {
     "name": "stdout",
     "output_type": "stream",
     "text": [
      "Requirement already satisfied: openpyxl in /home/omars/.local/lib/python3.8/site-packages (3.0.7)\r\n",
      "Requirement already satisfied: et-xmlfile in /home/omars/.local/lib/python3.8/site-packages (from openpyxl) (1.0.1)\r\n"
     ]
    }
   ],
   "source": [
    "!pip install openpyxl"
   ]
  },
  {
   "cell_type": "code",
   "execution_count": null,
   "metadata": {},
   "outputs": [],
   "source": []
  }
 ],
 "metadata": {
  "kernelspec": {
   "display_name": "Python 3",
   "language": "python",
   "name": "python3"
  },
  "language_info": {
   "codemirror_mode": {
    "name": "ipython",
    "version": 3
   },
   "file_extension": ".py",
   "mimetype": "text/x-python",
   "name": "python",
   "nbconvert_exporter": "python",
   "pygments_lexer": "ipython3",
   "version": "3.8.6"
  }
 },
 "nbformat": 4,
 "nbformat_minor": 4
}
